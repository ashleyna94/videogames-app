{
 "cells": [
  {
   "cell_type": "markdown",
   "metadata": {},
   "source": [
    "# Photomosaic library advanced code to build mosaic using pool of images\n",
    "\n",
    "### Code includes image scaling, partitioning, and color matching optimization\n",
    "### Source Code Documentation: http://danielballan.github.io/photomosaic/docs/"
   ]
  },
  {
   "cell_type": "code",
   "execution_count": 1,
   "metadata": {},
   "outputs": [],
   "source": [
    "import photomosaic as pm\n",
    "from skimage.io import imread\n",
    "image = imread('images/video_games_poster.jpg')"
   ]
  },
  {
   "cell_type": "code",
   "execution_count": 2,
   "metadata": {},
   "outputs": [
    {
     "name": "stderr",
     "output_type": "stream",
     "text": [
      "analyzing pool: 100%|██████████| 2600/2600 [00:09<00:00, 266.57it/s]\n"
     ]
    }
   ],
   "source": [
    "# Analyze the collection (the \"pool\") of images.\n",
    "pool = pm.make_pool('tiles/*')"
   ]
  },
  {
   "cell_type": "code",
   "execution_count": 3,
   "metadata": {},
   "outputs": [],
   "source": [
    "from skimage import img_as_float\n",
    "image = img_as_float(image)"
   ]
  },
  {
   "cell_type": "code",
   "execution_count": 4,
   "metadata": {},
   "outputs": [],
   "source": [
    "# Use perceptually uniform colorspace for all analysis.\n",
    "converted_img = pm.perceptual(image)"
   ]
  },
  {
   "cell_type": "code",
   "execution_count": 5,
   "metadata": {},
   "outputs": [],
   "source": [
    "# Adapt the color palette of the image to resemble the palette of the pool.\n",
    "adapted_img = pm.adapt_to_pool(converted_img, pool)"
   ]
  },
  {
   "cell_type": "code",
   "execution_count": 9,
   "metadata": {},
   "outputs": [
    {
     "name": "stderr",
     "output_type": "stream",
     "text": [
      "/Users/ianwomack/anaconda3/envs/py36/lib/python3.6/site-packages/skimage/transform/_warps.py:84: UserWarning: The default mode, 'constant', will be changed to 'reflect' in skimage 0.15.\n",
      "  warn(\"The default mode, 'constant', will be changed to 'reflect' in \"\n"
     ]
    }
   ],
   "source": [
    "scaled_img = pm.rescale_commensurate(adapted_img, grid_dims=(180, 270))"
   ]
  },
  {
   "cell_type": "code",
   "execution_count": 10,
   "metadata": {},
   "outputs": [
    {
     "name": "stderr",
     "output_type": "stream",
     "text": [
      "partitioning: depth 0: 100%|██████████| 48600/48600 [00:00<00:00, 172626.88it/s]\n"
     ]
    }
   ],
   "source": [
    "tiles = pm.partition(scaled_img, grid_dims=(180, 270))"
   ]
  },
  {
   "cell_type": "code",
   "execution_count": 11,
   "metadata": {},
   "outputs": [
    {
     "name": "stderr",
     "output_type": "stream",
     "text": [
      "100%|██████████| 48600/48600 [00:04<00:00, 11476.16it/s]\n"
     ]
    }
   ],
   "source": [
    "annotated_img = pm.draw_tile_layout(pm.rgb(scaled_img), tiles)"
   ]
  },
  {
   "cell_type": "code",
   "execution_count": 12,
   "metadata": {},
   "outputs": [],
   "source": [
    "import numpy"
   ]
  },
  {
   "cell_type": "code",
   "execution_count": 13,
   "metadata": {},
   "outputs": [],
   "source": [
    "# Reshape the 3D array (height, width, color_channels) into\n",
    "# a 2D array (num_pixels, color_channels) and average over the pixels.\n",
    "tile_colors = [numpy.mean(scaled_img[tile].reshape(-1, 3), 0)\n",
    "               for tile in tiles]"
   ]
  },
  {
   "cell_type": "code",
   "execution_count": 14,
   "metadata": {},
   "outputs": [],
   "source": [
    "# Match a pool image to each tile.\n",
    "match = pm.simple_matcher(pool)\n",
    "matches = [match(tc) for tc in tile_colors]"
   ]
  },
  {
   "cell_type": "code",
   "execution_count": 15,
   "metadata": {},
   "outputs": [],
   "source": [
    "# Create canvas\n",
    "canvas = numpy.ones_like(scaled_img)  # white canvas\n"
   ]
  },
  {
   "cell_type": "code",
   "execution_count": 17,
   "metadata": {},
   "outputs": [
    {
     "name": "stderr",
     "output_type": "stream",
     "text": [
      "drawing mosaic:   0%|          | 0/48600 [00:00<?, ?it/s]/Users/ianwomack/anaconda3/envs/py36/lib/python3.6/site-packages/skimage/transform/_warps.py:84: UserWarning: The default mode, 'constant', will be changed to 'reflect' in skimage 0.15.\n",
      "  warn(\"The default mode, 'constant', will be changed to 'reflect' in \"\n",
      "drawing mosaic: 100%|██████████| 48600/48600 [00:06<00:00, 6966.32it/s]\n"
     ]
    }
   ],
   "source": [
    "# Draw mosaic\n",
    "mos = pm.draw_mosaic(canvas, tiles, matches)"
   ]
  },
  {
   "cell_type": "code",
   "execution_count": 18,
   "metadata": {},
   "outputs": [
    {
     "name": "stderr",
     "output_type": "stream",
     "text": [
      "/Users/ianwomack/anaconda3/envs/py36/lib/python3.6/site-packages/skimage/util/dtype.py:122: UserWarning: Possible precision loss when converting from float64 to uint8\n",
      "  .format(dtypeobj_in, dtypeobj_out))\n"
     ]
    }
   ],
   "source": [
    "# save mosaic\n",
    "from skimage.io import imsave\n",
    "imsave('mosaics/mosaic_poster_a.png', mos)"
   ]
  }
 ],
 "metadata": {
  "kernelspec": {
   "display_name": "Python 3",
   "language": "python",
   "name": "python3"
  },
  "language_info": {
   "codemirror_mode": {
    "name": "ipython",
    "version": 3
   },
   "file_extension": ".py",
   "mimetype": "text/x-python",
   "name": "python",
   "nbconvert_exporter": "python",
   "pygments_lexer": "ipython3",
   "version": "3.6.3"
  }
 },
 "nbformat": 4,
 "nbformat_minor": 2
}
