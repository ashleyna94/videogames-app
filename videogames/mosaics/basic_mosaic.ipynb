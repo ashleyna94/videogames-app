{
 "cells": [
  {
   "cell_type": "markdown",
   "metadata": {},
   "source": [
    "# Photomosaic library basic code to build mosaic using pool of images\n",
    "\n",
    "### Source Code Documentation: http://danielballan.github.io/photomosaic/docs/"
   ]
  },
  {
   "cell_type": "code",
   "execution_count": 9,
   "metadata": {},
   "outputs": [],
   "source": [
    "from skimage.io import imread\n",
    "import matplotlib.pyplot as plt\n",
    "import photomosaic as pm"
   ]
  },
  {
   "cell_type": "code",
   "execution_count": 10,
   "metadata": {},
   "outputs": [],
   "source": [
    "# Read poster image\n",
    "image = imread('images/video_games_poster.jpg')"
   ]
  },
  {
   "cell_type": "code",
   "execution_count": 12,
   "metadata": {},
   "outputs": [
    {
     "name": "stderr",
     "output_type": "stream",
     "text": [
      "analyzing pool: 100%|██████████| 2600/2600 [00:10<00:00, 254.83it/s]\n"
     ]
    }
   ],
   "source": [
    "# Analyze pool of images in tiles folder\n",
    "pool = pm.make_pool('tiles/*')"
   ]
  },
  {
   "cell_type": "code",
   "execution_count": 26,
   "metadata": {
    "scrolled": true
   },
   "outputs": [
    {
     "name": "stderr",
     "output_type": "stream",
     "text": [
      "/Users/ianwomack/anaconda3/envs/py36/lib/python3.6/site-packages/skimage/transform/_warps.py:84: UserWarning: The default mode, 'constant', will be changed to 'reflect' in skimage 0.15.\n",
      "  warn(\"The default mode, 'constant', will be changed to 'reflect' in \"\n",
      "partitioning: depth 0: 100%|██████████| 48600/48600 [00:00<00:00, 260353.73it/s]\n",
      "analyzing tiles: 100%|██████████| 48600/48600 [00:01<00:00, 44318.88it/s]\n",
      "matching: 100%|██████████| 48600/48600 [00:02<00:00, 17674.21it/s]\n",
      "drawing mosaic: 100%|██████████| 48600/48600 [00:08<00:00, 5981.11it/s]\n"
     ]
    }
   ],
   "source": [
    "# Create a mosaic with 180x270 tiles.\n",
    "mos = pm.basic_mosaic(image, pool, (180, 270))"
   ]
  },
  {
   "cell_type": "code",
   "execution_count": 28,
   "metadata": {},
   "outputs": [
    {
     "name": "stderr",
     "output_type": "stream",
     "text": [
      "/Users/ianwomack/anaconda3/envs/py36/lib/python3.6/site-packages/skimage/util/dtype.py:122: UserWarning: Possible precision loss when converting from float64 to uint8\n",
      "  .format(dtypeobj_in, dtypeobj_out))\n"
     ]
    }
   ],
   "source": [
    "# Save mosaic\n",
    "imsave('mosaics/mosaic_poster_b.png', mos)"
   ]
  },
  {
   "cell_type": "code",
   "execution_count": null,
   "metadata": {},
   "outputs": [],
   "source": []
  }
 ],
 "metadata": {
  "kernelspec": {
   "display_name": "Python 3",
   "language": "python",
   "name": "python3"
  },
  "language_info": {
   "codemirror_mode": {
    "name": "ipython",
    "version": 3
   },
   "file_extension": ".py",
   "mimetype": "text/x-python",
   "name": "python",
   "nbconvert_exporter": "python",
   "pygments_lexer": "ipython3",
   "version": "3.6.3"
  }
 },
 "nbformat": 4,
 "nbformat_minor": 2
}
